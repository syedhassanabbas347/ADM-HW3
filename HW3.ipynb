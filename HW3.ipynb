{
 "cells": [
  {
   "cell_type": "code",
   "execution_count": 2,
   "metadata": {},
   "outputs": [],
   "source": [
    "import urllib.request"
   ]
  },
  {
   "cell_type": "code",
   "execution_count": 3,
   "metadata": {},
   "outputs": [],
   "source": [
    "from bs4 import BeautifulSoup\n",
    "import requests"
   ]
  },
  {
   "cell_type": "code",
   "execution_count": 26,
   "metadata": {},
   "outputs": [],
   "source": [
    "url = 'https://raw.githubusercontent.com/CriMenghini/ADM/master/2019/Homework_3/data/movies1.html'\n",
    "response = requests.get(url)\n",
    "soup = BeautifulSoup(response.text, 'html.parser')"
   ]
  },
  {
   "cell_type": "code",
   "execution_count": 28,
   "metadata": {},
   "outputs": [],
   "source": [
    "liste = []\n",
    "for par in soup.select('a'):\n",
    "    liste.append(par.text)"
   ]
  },
  {
   "cell_type": "code",
   "execution_count": 37,
   "metadata": {},
   "outputs": [],
   "source": [
    "import time"
   ]
  },
  {
   "cell_type": "code",
   "execution_count": 51,
   "metadata": {},
   "outputs": [],
   "source": [
    "i = 9671\n",
    "for k in range(9672, len(liste)): \n",
    "    response = urllib.request.urlopen(liste[k])\n",
    "    webContent = response.read()\n",
    "    nbr = str(i)\n",
    "    filename = 'article_'+nbr\n",
    "    f = open(filename + \".html\", 'wb')\n",
    "    f.write(webContent)\n",
    "    f.close\n",
    "    i = i+1\n",
    "    nombre = random.randint(1,5)\n",
    "    time.sleep(nombre)\n",
    "    "
   ]
  },
  {
   "cell_type": "code",
   "execution_count": 241,
   "metadata": {},
   "outputs": [],
   "source": [
    "soup = BeautifulSoup(open(\"article_9087.html\", encoding=\"utf8\"), \"html.parser\")"
   ]
  },
  {
   "cell_type": "code",
   "execution_count": 5,
   "metadata": {},
   "outputs": [],
   "source": [
    "import csv"
   ]
  },
  {
   "cell_type": "code",
   "execution_count": 6,
   "metadata": {},
   "outputs": [],
   "source": [
    "for k in range (1,2):\n",
    "    nbr1 = str(k)\n",
    "    soup = BeautifulSoup(open(r\"C:\\Users\\danyl\\OneDrive\\Documents\\HW3\\article_\"+nbr1+\".html\", encoding=\"utf8\"), \"html.parser\")\n",
    "    listeitem = []\n",
    "    listeelement = []\n",
    "    for div in soup.find_all('div', \"mw-content-ltr\"):\n",
    "        for tag in div.children:\n",
    "            for element in tag.find_all('table', \"infobox vevent\"):\n",
    "                for tags in element.find_all('th'):\n",
    "                    listeitem.append(tags.text.strip())\n",
    "                for tags in element.find_all('td'):\n",
    "                    listeelement.append(tags.text.strip())\n",
    "    if len(listeitem)>0 and len(listeelement)>0 :                \n",
    "        if len(listeitem) == len(listeelement):\n",
    "            listeelement = listeelement[1:len(listeelement)]\n",
    "        title = listeitem[0]\n",
    "        listeitem = listeitem[1:len(listeitem)]\n",
    "        listeinfo = []\n",
    "        for div in soup.find_all('p'):\n",
    "            if div.text != '\\n':\n",
    "                listeinfo.append(div.text.strip())\n",
    "\n",
    "    Intro = listeinfo[0]\n",
    "    Plot= listeinfo[1:len(listeinfo)]\n",
    "    Title = title\n",
    "    Director = Producer = Writer = Starring =  Music = Release_Date =  Runtime =  Country =  Language = Budget = None\n",
    "\n",
    "    if 'Directed by' in listeitem:\n",
    "        i = listeitem.index('Directed by')\n",
    "        Director = listeelement[i]\n",
    "\n",
    "    if 'Produced by' in listeitem:\n",
    "        i = listeitem.index('Produced by')\n",
    "        Producer = listeelement[i] \n",
    "\n",
    "    if 'Written by' in listeitem:\n",
    "        i = listeitem.index('Written by')\n",
    "        Writer = listeelement[i] \n",
    "\n",
    "    if 'Starring' in listeitem:\n",
    "        i = listeitem.index('Starring')\n",
    "        Starring = listeelement[i] \n",
    "\n",
    "    if 'Music by' in listeitem:\n",
    "        i = listeitem.index('Music by')\n",
    "        Music = listeelement[i] \n",
    "\n",
    "    if 'Release date' in listeitem:\n",
    "        i = listeitem.index('Release date')\n",
    "        Release_Date = listeelement[i]\n",
    "\n",
    "    if 'Running time' in listeitem:\n",
    "        i = listeitem.index('Running time')\n",
    "        Runtime = listeelement[i]\n",
    "\n",
    "    if 'Country' in listeitem:\n",
    "        i = listeitem.index('Country')\n",
    "        Country = listeelement[i]\n",
    "    \n",
    "    if 'Language' in listeitem:\n",
    "        i = listeitem.index('Language')\n",
    "        Language = listeelement[i]\n",
    "\n",
    "    if 'Budget' in listeitem:\n",
    "        i = listeitem.index('Budget')\n",
    "        Budget = listeelement[i]\n",
    "\n",
    "    nbr = str(k)\n",
    "    with open('document_'+nbr+'.tsv', 'wt', encoding = 'utf8') as out_file:\n",
    "        tsv_writer = csv.writer(out_file, delimiter='\\t')\n",
    "        tsv_writer.writerow(['Title', 'Intro', 'Plot','Director', 'Producer', 'Writer', 'Starring', 'Music', 'Release Date', 'Runtime', 'Country', 'Language', 'Budget'])\n",
    "        tsv_writer.writerow([Title, Intro, Plot, Director, Producer, Writer, Starring, Music, Release_Date, Runtime, Country, Language, Budget])\n"
   ]
  },
  {
   "cell_type": "code",
   "execution_count": 37,
   "metadata": {},
   "outputs": [
    {
     "name": "stdout",
     "output_type": "stream",
     "text": [
      "[' Title Intro Plot Director Producer Writer Starring Music Release Date Runtime Country Language Budget Love Light Moon Love Light Moon 1901 film Edwin S. Porter, produced Edison Manufacturing Company.[1] It mixes animation live action predates man moon theme 1902 French science fiction film A Trip Moon Georges MÃ©liÃ¨s. \"[\"\"The moon, painted smiling face hangs park night. A young couple walking past fence learn railing look up. The moon smiles. They embrace, moon\\'s smile gets bigger. They sit bench tree. The moon\\'s view blocked, causing frown. In last scene, man fans woman hat moon left sky perched shoulder see everything better.\"\"]\" Edwin S. Porter 1901Â (1901) United States Silent']\n"
     ]
    }
   ],
   "source": [
    "import csv\n",
    "\n",
    "with open('filteredtext.tsv') as tsvfile:\n",
    "  reader = csv.reader(tsvfile, delimiter='\\t')\n",
    "  for row in reader:\n",
    "        print(row)"
   ]
  },
  {
   "cell_type": "code",
   "execution_count": null,
   "metadata": {},
   "outputs": [],
   "source": []
  },
  {
   "cell_type": "code",
   "execution_count": 65,
   "metadata": {},
   "outputs": [],
   "source": [
    "import nltk\n",
    "nltk.download('stopwords')\n",
    "nltk.download('punkt')\n",
    "from nltk.corpus import stopwords\n",
    "from nltk.tokenize import RegexpTokenizer\n",
    "from nltk import word_tokenize\n",
    "from nltk.stem import PorterStemmer\n",
    "from nltk.tokenize import sent_tokenize\n",
    "\n",
    "def preprocess(k):\n",
    "    tokenizer = RegexpTokenizer(r'\\w+')\n",
    "    result = tokenizer.tokenize(k)\n",
    "    stop_words = set(stopwords.words('english'))\n",
    "    text = result\n",
    "    new_sentence =[]\n",
    "    for w in text:\n",
    "        if w not in stop_words: \n",
    "            new_sentence.append(w)\n",
    "    ps = PorterStemmer()\n",
    "    final = []\n",
    "    for word in new_sentence:\n",
    "        final.append(ps.stem(word))\n",
    "    return(final)"
   ]
  },
  {
   "cell_type": "code",
   "execution_count": null,
   "metadata": {},
   "outputs": [],
   "source": []
  },
  {
   "cell_type": "code",
   "execution_count": null,
   "metadata": {},
   "outputs": [],
   "source": []
  },
  {
   "cell_type": "code",
   "execution_count": null,
   "metadata": {},
   "outputs": [],
   "source": []
  },
  {
   "cell_type": "code",
   "execution_count": 1,
   "metadata": {},
   "outputs": [
    {
     "ename": "NameError",
     "evalue": "name 'BeautifulSoup' is not defined",
     "output_type": "error",
     "traceback": [
      "\u001b[1;31m---------------------------------------------------------------------------\u001b[0m",
      "\u001b[1;31mNameError\u001b[0m                                 Traceback (most recent call last)",
      "\u001b[1;32m<ipython-input-1-00256cbefde2>\u001b[0m in \u001b[0;36m<module>\u001b[1;34m\u001b[0m\n\u001b[0;32m      1\u001b[0m \u001b[0mlisteinfo\u001b[0m\u001b[1;33m=\u001b[0m \u001b[1;33m[\u001b[0m\u001b[1;33m]\u001b[0m\u001b[1;33m\u001b[0m\u001b[1;33m\u001b[0m\u001b[0m\n\u001b[1;32m----> 2\u001b[1;33m \u001b[0msoup\u001b[0m \u001b[1;33m=\u001b[0m \u001b[0mBeautifulSoup\u001b[0m\u001b[1;33m(\u001b[0m\u001b[0mopen\u001b[0m\u001b[1;33m(\u001b[0m\u001b[1;34mr\"C:\\Users\\danyl\\OneDrive\\Documents\\HW3\\article_9087.html\"\u001b[0m\u001b[1;33m,\u001b[0m \u001b[0mencoding\u001b[0m\u001b[1;33m=\u001b[0m\u001b[1;34m\"utf8\"\u001b[0m\u001b[1;33m)\u001b[0m\u001b[1;33m,\u001b[0m \u001b[1;34m\"html.parser\"\u001b[0m\u001b[1;33m)\u001b[0m\u001b[1;33m\u001b[0m\u001b[1;33m\u001b[0m\u001b[0m\n\u001b[0m\u001b[0;32m      3\u001b[0m \u001b[1;32mfor\u001b[0m \u001b[0mdiv\u001b[0m \u001b[1;32min\u001b[0m \u001b[0msoup\u001b[0m\u001b[1;33m.\u001b[0m\u001b[0mfind_all\u001b[0m\u001b[1;33m(\u001b[0m\u001b[1;34m'div'\u001b[0m\u001b[1;33m)\u001b[0m\u001b[1;33m:\u001b[0m\u001b[1;33m\u001b[0m\u001b[1;33m\u001b[0m\u001b[0m\n\u001b[0;32m      4\u001b[0m     \u001b[1;32mfor\u001b[0m \u001b[0mtag\u001b[0m \u001b[1;32min\u001b[0m \u001b[0mdiv\u001b[0m\u001b[1;33m.\u001b[0m\u001b[0mchildren\u001b[0m\u001b[1;33m:\u001b[0m\u001b[1;33m\u001b[0m\u001b[1;33m\u001b[0m\u001b[0m\n\u001b[0;32m      5\u001b[0m         \u001b[0mlisteinfo\u001b[0m\u001b[1;33m.\u001b[0m\u001b[0mappend\u001b[0m\u001b[1;33m(\u001b[0m\u001b[0mtag\u001b[0m\u001b[1;33m)\u001b[0m\u001b[1;33m\u001b[0m\u001b[1;33m\u001b[0m\u001b[0m\n",
      "\u001b[1;31mNameError\u001b[0m: name 'BeautifulSoup' is not defined"
     ]
    }
   ],
   "source": [
    "listeinfo= []\n",
    "soup = BeautifulSoup(open(r\"C:\\Users\\danyl\\OneDrive\\Documents\\HW3\\article_9087.html\", encoding=\"utf8\"), \"html.parser\")\n",
    "for div in soup.find_all('div'):\n",
    "    for tag in div.children:\n",
    "        listeinfo.append(tag)\n"
   ]
  },
  {
   "cell_type": "code",
   "execution_count": null,
   "metadata": {},
   "outputs": [],
   "source": []
  }
 ],
 "metadata": {
  "kernelspec": {
   "display_name": "Python 3",
   "language": "python",
   "name": "python3"
  },
  "language_info": {
   "codemirror_mode": {
    "name": "ipython",
    "version": 3
   },
   "file_extension": ".py",
   "mimetype": "text/x-python",
   "name": "python",
   "nbconvert_exporter": "python",
   "pygments_lexer": "ipython3",
   "version": "3.7.3"
  }
 },
 "nbformat": 4,
 "nbformat_minor": 4
}
